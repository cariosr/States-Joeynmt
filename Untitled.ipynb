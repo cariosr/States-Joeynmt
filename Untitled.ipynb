{
 "cells": [
  {
   "cell_type": "code",
   "execution_count": 22,
   "metadata": {},
   "outputs": [],
   "source": [
    "import numpy as np\n",
    "\n",
    "state_size = 100\n",
    "actions_size = 10\n",
    "\n",
    "N_layers = 20\n",
    "\n",
    "def funcMapSta_Ac(N_layers):\n",
    "    \n",
    "    n_layers = np.arange(1,N_layers+1)\n",
    "    \n",
    "    ns = ((state_size-actions_size)/(1-N_layers)) * (n_layers -1) + state_size\n",
    "    \n",
    "    return ns.astype(int)\n",
    "\n",
    "\n"
   ]
  },
  {
   "cell_type": "code",
   "execution_count": 23,
   "metadata": {},
   "outputs": [
    {
     "name": "stdout",
     "output_type": "stream",
     "text": [
      "[100  95  90  85  81  76  71  66  62  57  52  47  43  38  33  28  24  19\n",
      "  14  10]\n"
     ]
    }
   ],
   "source": [
    "print(funcMapSta_Ac(N_layers))"
   ]
  },
  {
   "cell_type": "code",
   "execution_count": 24,
   "metadata": {},
   "outputs": [
    {
     "data": {
      "text/plain": [
       "[<matplotlib.lines.Line2D at 0x7efdca307d30>]"
      ]
     },
     "execution_count": 24,
     "metadata": {},
     "output_type": "execute_result"
    },
    {
     "data": {
      "image/png": "[encoded data removed]",
      "text/plain": [
       "<Figure size 432x288 with 1 Axes>"
      ]
     },
     "metadata": {
      "needs_background": "light"
     },
     "output_type": "display_data"
    }
   ],
   "source": [
    "import matplotlib.pyplot as plt\n",
    "\n",
    "plt.plot(np.arange(1,N_layers+1),funcMapSta_Ac(N_layers))"
   ]
  },
  {
   "cell_type": "code",
   "execution_count": 65,
   "metadata": {},
   "outputs": [
    {
     "name": "stdout",
     "output_type": "stream",
     "text": [
      "64 46\n",
      "46 28\n",
      "28 10\n",
      "None tensor([[-4.7172e-03, -5.7741e-02, -1.0945e-01, -8.1956e-02,  1.1235e-01,\n",
      "          2.5443e-02,  5.8174e-02,  2.5589e-02,  5.6674e-02, -1.1160e-01,\n",
      "         -9.8813e-04, -2.0451e-02, -8.4857e-02, -1.3584e-03,  2.9190e-01,\n",
      "          5.8782e-02,  1.1568e-01, -6.7618e-02,  3.2504e-02,  6.9006e-02,\n",
      "          1.0686e-02,  1.1076e-01, -3.2443e-02,  7.9098e-02,  6.2971e-02,\n",
      "          1.4546e-01,  8.6070e-02, -1.4328e-01],\n",
      "        [-8.3782e-02, -9.6907e-02, -1.3607e-01,  5.8288e-03,  5.8038e-02,\n",
      "         -2.1613e-02, -4.9204e-02,  1.1183e-01, -7.9776e-02,  5.8378e-02,\n",
      "         -1.0477e-02, -3.4527e-02,  1.5182e-01,  3.4874e-02, -1.7370e-02,\n",
      "         -1.5440e-01, -1.3669e-01, -4.7728e-02,  3.8975e-03,  6.5881e-02,\n",
      "         -1.4709e-02,  1.2652e-01, -2.5276e-01,  2.3394e-01,  1.9505e-02,\n",
      "         -1.7253e-01, -3.5729e-02, -3.0306e-02],\n",
      "        [-3.5488e-03, -1.7789e-02,  6.3942e-02,  3.5889e-02,  7.3270e-02,\n",
      "         -1.3186e-01, -1.5863e-02, -1.3278e-01,  4.5141e-02, -1.0122e-01,\n",
      "         -6.6372e-02, -1.4135e-01,  2.2999e-01,  5.9297e-02, -1.2756e-02,\n",
      "         -5.8316e-02,  4.8181e-02, -1.2274e-01,  9.5859e-03,  6.5498e-02,\n",
      "         -9.3338e-02, -5.8434e-02,  4.1051e-03, -2.0211e-02,  1.1867e-01,\n",
      "         -6.9534e-02, -3.4043e-02,  4.3546e-02],\n",
      "        [ 1.8635e-02, -1.3314e-01,  1.5197e-01,  7.2732e-02, -1.1091e-01,\n",
      "          1.4146e-01, -1.8690e-01, -1.0635e-01, -4.3619e-02,  1.7758e-01,\n",
      "         -8.3514e-02, -6.8140e-02,  5.7204e-03, -8.5043e-02,  6.6747e-02,\n",
      "         -6.0644e-02,  1.7534e-01,  3.4433e-02,  9.4596e-02, -5.6152e-02,\n",
      "         -1.1542e-01,  2.3778e-01,  1.8115e-01,  1.1527e-02, -6.0553e-02,\n",
      "         -1.4399e-01,  3.8500e-02, -9.1173e-02],\n",
      "        [ 6.0483e-03,  6.0071e-02,  1.9002e-01,  1.2699e-01, -1.0542e-02,\n",
      "          7.9482e-03, -4.7195e-02,  5.6805e-02, -3.5838e-03, -1.2507e-02,\n",
      "          2.3250e-02, -7.7226e-02,  1.5956e-01,  4.5583e-03,  1.0618e-01,\n",
      "          9.5506e-02, -9.6341e-02,  5.5033e-02,  2.0584e-02,  1.5573e-02,\n",
      "          1.3904e-01, -2.4696e-02,  3.7200e-02, -2.9967e-03,  1.5910e-03,\n",
      "          9.3088e-02, -7.4236e-02, -1.1554e-01],\n",
      "        [ 1.1697e-01,  4.4417e-02,  9.8260e-03,  1.4152e-01, -1.9926e-02,\n",
      "         -3.0429e-02,  4.2124e-02, -8.4880e-02,  1.7778e-01,  5.4637e-02,\n",
      "         -5.5471e-02, -4.4333e-02,  1.1869e-01, -1.4281e-01,  4.0210e-02,\n",
      "         -1.4367e-02, -1.6338e-02, -2.6594e-02, -1.5116e-02, -1.7017e-02,\n",
      "         -9.4976e-02,  9.9823e-02,  5.8488e-02, -3.6345e-02, -1.3370e-01,\n",
      "          6.2743e-02, -9.8186e-02, -1.3964e-01],\n",
      "        [-7.3814e-02,  9.5503e-02,  3.8542e-02,  7.5179e-02, -4.8375e-02,\n",
      "         -6.6274e-02,  1.3777e-01,  6.0582e-02, -3.3112e-02,  4.7163e-02,\n",
      "         -4.4052e-02,  8.0777e-02, -1.5696e-01,  6.3661e-03, -9.8822e-02,\n",
      "          1.5930e-01, -1.1001e-01,  3.6766e-04, -4.1023e-02,  6.8555e-03,\n",
      "          3.9242e-02, -8.4226e-02, -6.4970e-02,  1.9480e-01, -5.6893e-02,\n",
      "         -1.6479e-01,  7.5920e-02,  1.2156e-01],\n",
      "        [-6.8697e-02,  1.0290e-01,  5.0476e-02,  1.1158e-01, -1.5993e-01,\n",
      "          3.5080e-02, -1.0529e-01, -4.2144e-02,  8.0251e-02, -1.6753e-01,\n",
      "          1.5354e-01, -8.7135e-02,  1.0227e-01, -1.1059e-01, -6.9809e-02,\n",
      "         -1.6356e-01,  1.5066e-04,  2.8685e-03, -1.1636e-01, -1.1156e-01,\n",
      "         -2.1546e-02,  1.5661e-02, -6.3393e-02, -9.7150e-02,  4.6888e-02,\n",
      "          6.4579e-02, -1.0280e-01,  1.9720e-02],\n",
      "        [ 2.1819e-01, -8.5379e-02, -1.7134e-01, -2.0026e-01, -1.2336e-01,\n",
      "          9.1320e-02, -1.2401e-01,  2.1353e-01, -1.2153e-01, -6.6708e-03,\n",
      "         -1.8191e-02,  2.0664e-01, -8.3542e-02,  1.5336e-01, -1.3685e-02,\n",
      "         -7.6485e-03,  1.2938e-01, -1.8105e-01, -8.0428e-02,  2.3759e-01,\n",
      "         -2.1943e-02,  9.4602e-02,  1.4419e-01, -3.8210e-02,  9.4747e-03,\n",
      "          1.5009e-01,  3.3183e-02,  6.0433e-02],\n",
      "        [-5.0917e-03, -1.4921e-01,  1.7991e-01, -1.7801e-02, -3.6983e-03,\n",
      "         -2.7353e-01,  9.5972e-02, -1.6885e-01,  1.3446e-01,  8.3624e-02,\n",
      "          1.1983e-02,  7.3210e-02, -6.1635e-02,  6.3266e-02, -1.1388e-01,\n",
      "          1.3676e-01, -2.2078e-02,  5.8233e-02,  1.5229e-02,  2.1439e-02,\n",
      "         -6.5504e-02,  1.1562e-01, -9.5105e-02, -2.2704e-01,  8.9569e-02,\n",
      "         -6.2736e-03, -2.8534e-02,  1.6775e-02]])\n",
      "None tensor([ 0.1042,  0.0688, -0.0983, -0.1100, -0.1067, -0.0696, -0.0699, -0.1562,\n",
      "         0.0505,  0.0647])\n"
     ]
    }
   ],
   "source": [
    "import torch\n",
    "import torch.nn.functional as F\n",
    "import torch.nn as nn\n",
    "from torchsummary import summary\n",
    "\n",
    "\n",
    "class Net(nn.Module):\n",
    "\n",
    "    def __init__(self, N_STATES, N_ACTIONS, N_LAYERS):\n",
    "        super(Net, self).__init__()\n",
    "        \n",
    "        net_size = funcMapSta_Ac(N_LAYERS)\n",
    "        \n",
    "\n",
    "        self.hidden = []\n",
    "        for k in range(len(net_size)-2):\n",
    "            self.hidden.append(nn.Linear(net_size[k], net_size[k+1]))\n",
    "            self.hidden[k].weight.data.normal_(0, 0.1)   # initialization\n",
    "            print(net_size[k], net_size[k+1])\n",
    "\n",
    "        # Output layer\n",
    "        self.out = nn.Linear(net_size[-2], net_size[-1])\n",
    "        self.out.weight.data.normal_(0, 0.1)   # initialization\n",
    "        print(net_size[-2], net_size[-1])\n",
    "\n",
    "            \n",
    "    def forward(self, x):\n",
    "        \n",
    "        # Feedforward\n",
    "        for layer in self.hidden:\n",
    "            x = F.relu(layer(x))\n",
    "        actions_value = self.out(x)\n",
    "\n",
    "        return actions_value\n",
    "\n",
    "       \n",
    "    \n",
    "\n",
    "    \n",
    "state_size = 64\n",
    "actions_size = 10\n",
    "n_layers = 4\n",
    "\n",
    "eval_net = Net(state_size, actions_size, n_layers)\n",
    "    \n",
    "# my fake code\n",
    "for p in eval_net.parameters():\n",
    "    if p.requires_grad:\n",
    "        print(p.name, p.data) "
   ]
  },
  {
   "cell_type": "code",
   "execution_count": 54,
   "metadata": {},
   "outputs": [
    {
     "name": "stdout",
     "output_type": "stream",
     "text": [
      "Total params: %d 0\n",
      "Trainable parameters: %s []\n"
     ]
    }
   ],
   "source": [
    "model_parameters = filter(lambda p: p.requires_grad,\n",
    "                                  eval_net.parameters())\n",
    "n_params = sum([np.prod(p.size()) for p in model_parameters])\n",
    "print(\"Total params: %d\", n_params)\n",
    "trainable_params = [n for (n, p) in eval_net.named_parameters()\n",
    "                    if p.requires_grad]\n",
    "print(\"Trainable parameters: %s\", sorted(trainable_params))"
   ]
  },
  {
   "cell_type": "code",
   "execution_count": 55,
   "metadata": {},
   "outputs": [],
   "source": [
    "# my fake code\n",
    "for p in eval_net.parameters():\n",
    "    if p.requires_grad:\n",
    "        print(p.name, p.data) "
   ]
  },
  {
   "cell_type": "code",
   "execution_count": 57,
   "metadata": {},
   "outputs": [
    {
     "name": "stdout",
     "output_type": "stream",
     "text": [
      "None tensor([[ 0.0991, -0.0706,  0.1347, -0.1773, -0.2175, -0.2561, -0.0555, -0.1552,\n",
      "         -0.2244, -0.2399],\n",
      "        [-0.3037,  0.0820, -0.0364, -0.1067,  0.2048, -0.0558,  0.2949, -0.0456,\n",
      "         -0.1864, -0.1546],\n",
      "        [-0.2333,  0.0059,  0.0918,  0.0139,  0.0127, -0.2075, -0.0516, -0.0965,\n",
      "          0.2028, -0.0290],\n",
      "        [ 0.1864,  0.0019, -0.2874, -0.2267, -0.2456,  0.0087,  0.3006, -0.2808,\n",
      "          0.1580,  0.0659],\n",
      "        [-0.3139,  0.2324, -0.2264,  0.1275, -0.2882,  0.0702, -0.0081,  0.2616,\n",
      "         -0.0252, -0.0880]])\n",
      "None tensor([ 0.0783,  0.2999, -0.1986, -0.1517,  0.2459])\n"
     ]
    }
   ],
   "source": [
    "class MLP(nn.Module):\n",
    "\n",
    "    def __init__(self, h_sizes, out_size):\n",
    "\n",
    "        super(MLP, self).__init__()\n",
    "\n",
    "        # Hidden layers\n",
    "        self.hidden = []\n",
    "        for k in range(len(h_sizes)-1):\n",
    "            self.hidden.append(nn.Linear(h_sizes[k], h_sizes[k+1]))\n",
    "\n",
    "        # Output layer\n",
    "        self.out = nn.Linear(h_sizes[-1], out_size)\n",
    "\n",
    "    def forward(self, x):\n",
    "\n",
    "        # Feedforward\n",
    "        for layer in self.hidden:\n",
    "            x = F.relu(layer(x))\n",
    "        output= F.softmax(self.out(x), dim=1)\n",
    "\n",
    "        return output\n",
    "\n",
    "net_size = funcMapSta_Ac(3)\n",
    "\n",
    "model = MLP(net_size,5)\n",
    "# my fake code\n",
    "for p in model.parameters():\n",
    "    if p.requires_grad:\n",
    "        print(p.name, p.data) \n",
    "    \n",
    "    "
   ]
  },
  {
   "cell_type": "code",
   "execution_count": null,
   "metadata": {},
   "outputs": [],
   "source": []
  }
 ],
 "metadata": {
  "kernelspec": {
   "display_name": "Python 3",
   "language": "python",
   "name": "python3"
  },
  "language_info": {
   "codemirror_mode": {
    "name": "ipython",
    "version": 3
   },
   "file_extension": ".py",
   "mimetype": "text/x-python",
   "name": "python",
   "nbconvert_exporter": "python",
   "pygments_lexer": "ipython3",
   "version": "3.8.1"
  }
 },
 "nbformat": 4,
 "nbformat_minor": 4
}
